{
 "cells": [
  {
   "cell_type": "markdown",
   "metadata": {},
   "source": [
    "### Documentação do arquivo style.css"
   ]
  },
  {
   "cell_type": "markdown",
   "metadata": {},
   "source": [
    "###  Cores\n",
    "\n",
    "##### * **gradientes** - transação suave de duas ou mais cores\n",
    "\n",
    "**Tipos:**\\\n",
    "linear *(onde a cor muda em uma direção específica)*,\\\n",
    "radial *(onde a cor muda a partir de um ponto central)*\\\n",
    "angular *(onde a cor muda em torno de um ângulo específico)*\n",
    "\n",
    "__exemplo:__\\\n",
    "\n",
    "  bg-gradient-onyx: -> os -- significa que é personalização\\\n",
    "  linear-gradient( -> essa parte define que será um degradê linear\\\n",
    "  to bottom right, -> define a direção do gradiente, aqui etsá do esq/dir\\\n",
    "  hsl(240, 1%, 25%) 3%, -> 1º parada Matiz (240)/Saturação (1%)/Luminosidade (25%)/3%(largura e altura)\\\n",
    "  hsl(0, 0%, 19%) 97% -> 2º parada Matiz (0)/Saturação (0%)/Luminosidade (19%)/97%(largura e altura)\n",
    "  );\n",
    "\n"
   ]
  },
  {
   "cell_type": "markdown",
   "metadata": {},
   "source": [
    " --bg-gradient-onyx: -> cor do fundo\n",
    "\n",
    " --bg-gradient-onyx: linear-gradient(\n",
    "    to bottom right, \n",
    "    hsl(240, 1%, 25%) 3%, \n",
    "    hsl(0, 0%, 19%) 97%\n",
    "  );\n",
    "  --bg-gradient-jet: linear-gradient(\n",
    "    to bottom right, \n",
    "    hsla(240, 1%, 18%, 0.251) 0%, \n",
    "    hsla(240, 2%, 11%, 0) 100%\n",
    "  ), hsl(240, 2%, 13%);\n",
    "  --bg-gradient-yellow-1: linear-gradient(\n",
    "    to bottom right, \n",
    "    hsl(300, 91%, 59%) 50%, \n",
    "    hsl(300, 91%, 59%) 50%\n",
    "  );\n",
    "  --bg-gradient-yellow-2: linear-gradient(\n",
    "    135deg, \n",
    "    hsla(45, 100%, 71%, 0.251) 0%, \n",
    "    hsla(35, 100%, 68%, 0) 59.86%\n",
    "  ), hsl(240, 2%, 13%);\n",
    "  --border-gradient-onyx: linear-gradient(\n",
    "    to bottom right, \n",
    "    hsl(0, 0%, 25%) 0%, \n",
    "    hsla(0, 0%, 25%, 0) 50%\n",
    "  );\n",
    "  --text-gradient-yellow: linear-gradient(\n",
    "    to right, \n",
    "    hsl(300, 91%, 59%) 50%, \n",
    "    hsl(300, 91%, 59%) 50%\n",
    "  );"
   ]
  },
  {
   "cell_type": "markdown",
   "metadata": {},
   "source": []
  }
 ],
 "metadata": {
  "language_info": {
   "name": "python"
  }
 },
 "nbformat": 4,
 "nbformat_minor": 2
}
